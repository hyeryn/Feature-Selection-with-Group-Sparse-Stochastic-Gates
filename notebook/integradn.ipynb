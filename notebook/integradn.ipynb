{
 "cells": [
  {
   "cell_type": "code",
   "execution_count": 27,
   "metadata": {},
   "outputs": [
    {
     "name": "stderr",
     "output_type": "stream",
     "text": [
      "/tmp/ipykernel_3364281/2988330251.py:7: RuntimeWarning: divide by zero encountered in log\n",
      "  prob = sigmoid((1/beta) * (np.log(pi_d / (1 - pi_d)) + np.log(u / (1 - u + 1e-8))))\n"
     ]
    },
    {
     "name": "stdout",
     "output_type": "stream",
     "text": [
      "Mean Approximated integral for pi_d: 0.7224215480252539\n",
      "Mean of pi_d 0.7333333333333334\n"
     ]
    }
   ],
   "source": [
    "def calculate_mean_pi_d(pi_d_values, beta, num_intervals):\n",
    "    total_integral = 0\n",
    "    for pi_d in pi_d_values:\n",
    "        integral = trapezoidal_rule(pi_d, beta, num_intervals)\n",
    "        total_integral += integral\n",
    "    mean_integral = total_integral / len(pi_d_values)\n",
    "    return mean_integral\n",
    "\n",
    "pi_d_values = [0.9, 0.7, 0.6]\n",
    "beta = 0.5\n",
    "num_intervals = 10000\n",
    "\n",
    "mean_integral = calculate_mean_pi_d(pi_d_values, beta, num_intervals)\n",
    "print(\"Mean Approximated integral for pi_d:\", mean_integral)\n",
    "print(\"Mean of pi_d\", np.array(pi_d_values).mean())"
   ]
  },
  {
   "cell_type": "code",
   "execution_count": 5,
   "metadata": {},
   "outputs": [
    {
     "name": "stdout",
     "output_type": "stream",
     "text": [
      "Estimated mean for pi_d: 0.8881083752745423\n"
     ]
    }
   ],
   "source": [
    "import numpy as np\n",
    "\n",
    "def sigmoid(x):\n",
    "    return 1 / (1 + np.exp(-x))\n",
    "\n",
    "def integrand(pi_d, beta, u):\n",
    "    prob = sigmoid((1/beta) * (np.log(pi_d / (1 - pi_d)) + np.log(u / (1 - u + 1e-8))))\n",
    "    clipped_prob = np.clip(prob * (1.1 + 0.1) - 0.1, 0, 1)\n",
    "    return clipped_prob\n",
    "\n",
    "def estimate_mean(pi_d, beta, num_samples):\n",
    "    u_samples = np.random.uniform(0, 1, num_samples)  # 0과 1 사이에서 무작위 샘플 생성\n",
    "    integrand_values = integrand(pi_d, beta, u_samples)  # 각 샘플에 대한 함수 값 계산\n",
    "    mean_estimate = np.mean(integrand_values)  # 함수 값들의 평균 계산\n",
    "    return mean_estimate\n",
    "\n",
    "pi_d = 0.9\n",
    "beta = 0.5\n",
    "num_samples = 100000  # 샘플 수\n",
    "\n",
    "mean_estimate = estimate_mean(pi_d, beta, num_samples)\n",
    "print(\"Estimated mean for pi_d:\", mean_estimate)\n"
   ]
  },
  {
   "cell_type": "code",
   "execution_count": null,
   "metadata": {},
   "outputs": [],
   "source": []
  }
 ],
 "metadata": {
  "kernelspec": {
   "display_name": "hrpark_env1",
   "language": "python",
   "name": "python3"
  },
  "language_info": {
   "codemirror_mode": {
    "name": "ipython",
    "version": 3
   },
   "file_extension": ".py",
   "mimetype": "text/x-python",
   "name": "python",
   "nbconvert_exporter": "python",
   "pygments_lexer": "ipython3",
   "version": "3.10.12 | packaged by conda-forge | (main, Jun 23 2023, 22:40:32) [GCC 12.3.0]"
  },
  "orig_nbformat": 4,
  "vscode": {
   "interpreter": {
    "hash": "62c11fbb7c359b4cc97029e35aad22b6e9cc5cfaf8fda2984aac6a9450c9d736"
   }
  }
 },
 "nbformat": 4,
 "nbformat_minor": 2
}
